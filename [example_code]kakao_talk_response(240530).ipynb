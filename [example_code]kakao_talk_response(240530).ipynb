{
 "cells": [
  {
   "cell_type": "code",
   "execution_count": 1,
   "id": "f54b0d75",
   "metadata": {},
   "outputs": [
    {
     "name": "stdout",
     "output_type": "stream",
     "text": [
      "https://accounts.kakao.com/login?continue=https%3A%2F%2Fkauth.kakao.com%2Foauth%2Fauthorize%3Fscope%3Dtalk_message%26response_type%3Dcode%26redirect_uri%3Dhttps%253A%252F%252Flocalhost%253A5000%26through_account%3Dtrue%26client_id%3Da564118b6791fccfe052e927d15314bc\n"
     ]
    }
   ],
   "source": [
    "from PyKakao import Message\n",
    "import os\n",
    "\n",
    "# 서비스 키 가져오기\n",
    "service_key = os.environ.get(\"KAKAO_REST_API\")\n",
    "\n",
    "# Message 인스턴스 생성\n",
    "API = Message(service_key=service_key)\n",
    "\n",
    "# 인증 URL 생성\n",
    "auth_url = API.get_url_for_generating_code()\n",
    "print(auth_url)"
   ]
  },
  {
   "cell_type": "code",
   "execution_count": 2,
   "id": "a539191e",
   "metadata": {},
   "outputs": [
    {
     "name": "stdout",
     "output_type": "stream",
     "text": [
      "VXBeBdP32jELYGUb2rIeFB_zfM9Sy2cDAAAAAQo9dGgAAAGPzJe_f1v0-avl6D9k\n"
     ]
    }
   ],
   "source": [
    "# 여기서 auth_url을 통해 인증 코드를 받습니다.\n",
    "# 인증 코드를 받으면, 이를 사용하여 액세스 토큰을 발급받습니다.\n",
    "auth_code = \"https://localhost:5000/?code=IgQLj8OlN_UDgZAq3koGlt7iTdons0ifF8NIuGM8EYS5nEUO4uiO0QAAAAQKKcjYAAABj8yW_U_-oZq-Jypvmw\"  # 인증 코드를 여기에 입력합니다.\n",
    "\n",
    "# 액세스 토큰 발급\n",
    "tokens = API.get_access_token_by_redirected_url(auth_code)\n",
    "print(tokens)"
   ]
  },
  {
   "cell_type": "code",
   "execution_count": 3,
   "id": "415b7531",
   "metadata": {},
   "outputs": [
    {
     "name": "stdout",
     "output_type": "stream",
     "text": [
      "액세스 토큰 설정 완료\n"
     ]
    }
   ],
   "source": [
    "# 액세스 토큰 설정\n",
    "API.set_access_token(tokens)"
   ]
  },
  {
   "cell_type": "code",
   "execution_count": 4,
   "id": "396fa267",
   "metadata": {},
   "outputs": [
    {
     "name": "stdout",
     "output_type": "stream",
     "text": [
      "메시지 전송 성공\n"
     ]
    }
   ],
   "source": [
    "# 메시지 유형 - 피드\n",
    "message_type = \"feed\"\n",
    "\n",
    "# 파라미터\n",
    "content = {\n",
    "            \"title\": \"오늘의 디저트\",\n",
    "            \"description\": \"아메리카노, 빵, 케익\",\n",
    "            \"image_url\": \"https://mud-kage.kakao.com/dn/NTmhS/btqfEUdFAUf/FjKzkZsnoeE4o19klTOVI1/openlink_640x640s.jpg\",\n",
    "            \"image_width\": 640,\n",
    "            \"image_height\": 640,\n",
    "            \"link\": {\n",
    "                \"web_url\": \"http://www.daum.net\",\n",
    "                \"mobile_web_url\": \"http://m.daum.net\",\n",
    "                \"android_execution_params\": \"contentId=100\",\n",
    "                \"ios_execution_params\": \"contentId=100\"\n",
    "            }\n",
    "        }\n",
    "\n",
    "item_content = {\n",
    "            \"profile_text\" :\"Kakao\",\n",
    "            \"profile_image_url\" :\"https://mud-kage.kakao.com/dn/Q2iNx/btqgeRgV54P/VLdBs9cvyn8BJXB3o7N8UK/kakaolink40_original.png\",\n",
    "            \"title_image_url\" : \"https://mud-kage.kakao.com/dn/Q2iNx/btqgeRgV54P/VLdBs9cvyn8BJXB3o7N8UK/kakaolink40_original.png\",\n",
    "            \"title_image_text\" :\"Cheese cake\",\n",
    "            \"title_image_category\" : \"Cake\",\n",
    "            \"items\" : [\n",
    "                {\n",
    "                    \"item\" :\"Cake1\",\n",
    "                    \"item_op\" : \"1000원\"\n",
    "                },\n",
    "                {\n",
    "                    \"item\" :\"Cake2\",\n",
    "                    \"item_op\" : \"2000원\"\n",
    "                },\n",
    "                {\n",
    "                    \"item\" :\"Cake3\",\n",
    "                    \"item_op\" : \"3000원\"\n",
    "                },\n",
    "                {\n",
    "                    \"item\" :\"Cake4\",\n",
    "                    \"item_op\" : \"4000원\"\n",
    "                },\n",
    "                {\n",
    "                    \"item\" :\"Cake5\",\n",
    "                    \"item_op\" : \"5000원\"\n",
    "                }\n",
    "            ],\n",
    "            \"sum\" :\"Total\",\n",
    "            \"sum_op\" : \"15000원\"\n",
    "        }\n",
    "\n",
    "social = {\n",
    "            \"like_count\": 100,\n",
    "            \"comment_count\": 200,\n",
    "            \"shared_count\": 300,\n",
    "            \"view_count\": 400,\n",
    "            \"subscriber_count\": 500\n",
    "        }\n",
    "\n",
    "buttons = [\n",
    "            {\n",
    "                \"title\": \"웹으로 이동\",\n",
    "                \"link\": {\n",
    "                    \"web_url\": \"http://www.daum.net\",\n",
    "                    \"mobile_web_url\": \"http://m.daum.net\"\n",
    "                }\n",
    "            },\n",
    "            {\n",
    "                \"title\": \"앱으로 이동\",\n",
    "                \"link\": {\n",
    "                    \"android_execution_params\": \"contentId=100\",\n",
    "                    \"ios_execution_params\": \"contentId=100\"\n",
    "                }\n",
    "            }\n",
    "        ]\n",
    "\n",
    "API.send_message_to_me(\n",
    "    message_type=message_type,\n",
    "    content=content, \n",
    "    item_content=item_content, \n",
    "    social=social, \n",
    "    buttons=buttons\n",
    "    )"
   ]
  },
  {
   "cell_type": "code",
   "execution_count": 7,
   "id": "f3544a72",
   "metadata": {},
   "outputs": [
    {
     "name": "stdout",
     "output_type": "stream",
     "text": [
      "메시지 전송 성공\n"
     ]
    }
   ],
   "source": [
    "# 메시지 유형 - 리스트\n",
    "message_type = \"list\"\n",
    "\n",
    "# 파라미터\n",
    "header_title = \"WEEKELY MAGAZINE\"\n",
    "header_link = {\n",
    "            \"web_url\": \"http://www.daum.net\",\n",
    "            \"mobile_web_url\": \"http://m.daum.net\",\n",
    "            \"android_execution_params\": \"main\",\n",
    "            \"ios_execution_params\": \"main\"\n",
    "        }\n",
    "contents = [\n",
    "            {\n",
    "                \"title\": \"자전거 라이더를 위한 공간\",\n",
    "                \"description\": \"매거진\",\n",
    "                \"image_url\": \"https://mud-kage.kakao.com/dn/QNvGY/btqfD0SKT9m/k4KUlb1m0dKPHxGV8WbIK1/openlink_640x640s.jpg\",\n",
    "                \"image_width\": 640,\n",
    "                \"image_height\": 640,\n",
    "                \"link\": {\n",
    "                    \"web_url\": \"http://www.daum.net/contents/1\",\n",
    "                    \"mobile_web_url\": \"http://m.daum.net/contents/1\",\n",
    "                    \"android_execution_params\": \"/contents/1\",\n",
    "                    \"ios_execution_params\": \"/contents/1\"\n",
    "                }\n",
    "            },\n",
    "            {\n",
    "                \"title\": \"비쥬얼이 끝내주는 오레오 카푸치노\",\n",
    "                \"description\": \"매거진\",\n",
    "                \"image_url\": \"https://mud-kage.kakao.com/dn/boVWEm/btqfFGlOpJB/mKsq9z6U2Xpms3NztZgiD1/openlink_640x640s.jpg\",\n",
    "                \"image_width\": 640,\n",
    "                \"image_height\": 640,\n",
    "                \"link\": {\n",
    "                    \"web_url\": \"http://www.daum.net/contents/2\",\n",
    "                    \"mobile_web_url\": \"http://m.daum.net/contents/2\",\n",
    "                    \"android_execution_params\": \"/contents/2\",\n",
    "                    \"ios_execution_params\": \"/contents/2\"\n",
    "                }\n",
    "            },\n",
    "            {\n",
    "                \"title\": \"감성이 가득한 분위기\",\n",
    "                \"description\": \"매거진\",\n",
    "                \"image_url\": \"https://mud-kage.kakao.com/dn/NTmhS/btqfEUdFAUf/FjKzkZsnoeE4o19klTOVI1/openlink_640x640s.jpg\",\n",
    "                \"image_width\": 640,\n",
    "                \"image_height\": 640,\n",
    "                \"link\": {\n",
    "                    \"web_url\": \"http://www.daum.net/contents/3\",\n",
    "                    \"mobile_web_url\": \"http://m.daum.net/contents/3\",\n",
    "                    \"android_execution_params\": \"/contents/3\",\n",
    "                    \"ios_execution_params\": \"/contents/3\"\n",
    "                }\n",
    "            }\n",
    "        ]\n",
    "buttons = [\n",
    "            {\n",
    "                \"title\": \"웹으로 이동\",\n",
    "                \"link\": {\n",
    "                    \"web_url\": \"http://www.daum.net\",\n",
    "                    \"mobile_web_url\": \"http://m.daum.net\"\n",
    "                }\n",
    "            },\n",
    "            {\n",
    "                \"title\": \"앱으로 이동\",\n",
    "                \"link\": {\n",
    "                    \"android_execution_params\": \"main\",\n",
    "                    \"ios_execution_params\": \"main\"\n",
    "                }\n",
    "            }\n",
    "        ]\n",
    "\n",
    "\n",
    "API.send_message_to_me(\n",
    "    message_type=message_type,\n",
    "    header_title=header_title, \n",
    "    header_link=header_link, \n",
    "    contents=contents, \n",
    "    buttons=buttons,\n",
    "    )"
   ]
  },
  {
   "cell_type": "code",
   "execution_count": 6,
   "id": "58fbcea7",
   "metadata": {},
   "outputs": [
    {
     "name": "stdout",
     "output_type": "stream",
     "text": [
      "메시지 전송 성공\n"
     ]
    }
   ],
   "source": [
    "# 메시지 유형 - 위치\n",
    "message_type = \"location\"\n",
    "\n",
    "# 파라미터\n",
    "address = \"경기 성남시 분당구 판교역로 235 에이치스퀘어 N동 7층\"\n",
    "address_title = \"카카오 판교오피스\"\n",
    "content = {\n",
    "                \"title\": \"카카오 판교오피스\",\n",
    "                \"description\": \"카카오 판교오피스 위치입니다.\",\n",
    "                \"image_url\": \"https://mud-kage.kakao.com/dn/drTdbB/bWYf06POFPf/owUHIt7K7NoGD0hrzFLeW0/kakaolink40_original.png\",\n",
    "                \"image_width\": 800,\n",
    "                \"image_height\": 800,\n",
    "                \"link\": {\n",
    "                    \"web_url\": \"https://developers.kakao.com\",\n",
    "                    \"mobile_web_url\": \"https://developers.kakao.com/mobile\",\n",
    "                    \"android_execution_params\": \"platform=android\",\n",
    "                    \"ios_execution_params\": \"platform=ios\"\n",
    "                }\n",
    "            }\n",
    "buttons = [\n",
    "                {\n",
    "                    \"title\": \"웹으로 보기\",\n",
    "                    \"link\": {\n",
    "                        \"web_url\": \"https://developers.kakao.com\",\n",
    "                        \"mobile_web_url\": \"https://developers.kakao.com/mobile\"\n",
    "                    }\n",
    "                }\n",
    "            ]\n",
    "\n",
    "API.send_message_to_me(\n",
    "    message_type=message_type,\n",
    "    address=address, \n",
    "    address_title=address_title, \n",
    "    content=content, \n",
    "    buttons=buttons,\n",
    "    )"
   ]
  },
  {
   "cell_type": "code",
   "execution_count": null,
   "id": "ae735965",
   "metadata": {},
   "outputs": [],
   "source": []
  }
 ],
 "metadata": {
  "kernelspec": {
   "display_name": "CHAT_BOT_SERVICE",
   "language": "python",
   "name": "chat_bot_service"
  },
  "language_info": {
   "codemirror_mode": {
    "name": "ipython",
    "version": 3
   },
   "file_extension": ".py",
   "mimetype": "text/x-python",
   "name": "python",
   "nbconvert_exporter": "python",
   "pygments_lexer": "ipython3",
   "version": "3.9.13"
  }
 },
 "nbformat": 4,
 "nbformat_minor": 5
}
