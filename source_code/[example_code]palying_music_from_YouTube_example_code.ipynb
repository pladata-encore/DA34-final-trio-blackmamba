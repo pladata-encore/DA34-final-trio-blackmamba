{
 "cells": [
  {
   "cell_type": "code",
   "execution_count": 2,
   "id": "263a0248",
   "metadata": {},
   "outputs": [
    {
     "name": "stdout",
     "output_type": "stream",
     "text": [
      "음악을 재생합니다: https://www.youtube.com/watch?v=jeqdYqsrsA0\n"
     ]
    }
   ],
   "source": [
    "import os\n",
    "import googleapiclient.discovery\n",
    "\n",
    "# API 키 설정\n",
    "os.environ[\"GOOGLE_API_KEY\"] = os.environ.get('GOOGLE_API_KEY')\n",
    "\n",
    "# YouTube Data API 클라이언트 생성\n",
    "youtube = googleapiclient.discovery.build(\"youtube\", \"v3\", developerKey=os.getenv(\"GOOGLE_API_KEY\"))\n",
    "\n",
    "def search_music(keyword):\n",
    "    # 음악 검색\n",
    "    search_response = youtube.search().list(\n",
    "        q=keyword,\n",
    "        part=\"id\",\n",
    "        type=\"video\",\n",
    "        maxResults=1  # 검색 결과 중에서 하나만 가져옴\n",
    "    ).execute()\n",
    "    \n",
    "    # 검색 결과 중에서 첫 번째 동영상의 ID 가져오기\n",
    "    video_id = search_response[\"items\"][0][\"id\"][\"videoId\"]\n",
    "    \n",
    "    # YouTube 동영상 URL 생성\n",
    "    video_url = f\"https://www.youtube.com/watch?v={video_id}\"\n",
    "    \n",
    "    return video_url\n",
    "\n",
    "def play_music(keyword):\n",
    "    # 음악 검색\n",
    "    video_url = search_music(keyword)\n",
    "    \n",
    "    # 동영상 URL 출력\n",
    "    print(\"음악을 재생합니다:\", video_url)\n",
    "    # 여기서부터는 웹 브라우저를 통해 해당 URL을 열어 음악을 재생하는 방법을 구현하면 됩니다.\n",
    "    # 예를 들어, 웹 브라우저를 자동으로 열어주는 모듈을 사용할 수 있습니다.\n",
    "    # 또는 음악 스트리밍 서비스의 API를 사용하여 음악을 재생할 수도 있습니다.\n",
    "\n",
    "# 음악 재생\n",
    "play_music(\"아이유 좋은 날\")\n"
   ]
  },
  {
   "cell_type": "code",
   "execution_count": null,
   "id": "9def6110",
   "metadata": {},
   "outputs": [],
   "source": []
  }
 ],
 "metadata": {
  "kernelspec": {
   "display_name": "CHAT_BOT_SERVICE",
   "language": "python",
   "name": "chat_bot_service"
  },
  "language_info": {
   "codemirror_mode": {
    "name": "ipython",
    "version": 3
   },
   "file_extension": ".py",
   "mimetype": "text/x-python",
   "name": "python",
   "nbconvert_exporter": "python",
   "pygments_lexer": "ipython3",
   "version": "3.9.13"
  }
 },
 "nbformat": 4,
 "nbformat_minor": 5
}
