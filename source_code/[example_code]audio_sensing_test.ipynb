{
 "cells": [
  {
   "cell_type": "code",
   "execution_count": 1,
   "id": "5b7c34ae",
   "metadata": {},
   "outputs": [
    {
     "name": "stdout",
     "output_type": "stream",
     "text": [
      "말씀하세요...\n",
      "음성 인식 중...\n",
      "인식된 텍스트: 안녕하세요\n"
     ]
    }
   ],
   "source": [
    "import speech_recognition as sr\n",
    "\n",
    "# 음성 인식기를 생성합니다\n",
    "recognizer = sr.Recognizer()\n",
    "\n",
    "# 마이크를 사용하여 음성을 캡처합니다\n",
    "with sr.Microphone() as source:\n",
    "    print(\"말씀하세요...\")\n",
    "    # 음성을 청취합니다\n",
    "    audio_data = recognizer.listen(source)\n",
    "    print(\"음성 인식 중...\")\n",
    "\n",
    "    try:\n",
    "        # Google Web Speech API를 사용하여 음성을 텍스트로 변환합니다\n",
    "        text = recognizer.recognize_google(audio_data, language='ko-KR')\n",
    "        print(\"인식된 텍스트: \" + text)\n",
    "    except sr.UnknownValueError:\n",
    "        print(\"음성을 인식할 수 없습니다\")\n",
    "    except sr.RequestError as e:\n",
    "        print(f\"음성 인식 서비스에 문제가 있습니다: {e}\")"
   ]
  },
  {
   "cell_type": "code",
   "execution_count": null,
   "id": "1001203f",
   "metadata": {},
   "outputs": [],
   "source": []
  }
 ],
 "metadata": {
  "kernelspec": {
   "display_name": "Python 3 (ipykernel)",
   "language": "python",
   "name": "python3"
  },
  "language_info": {
   "codemirror_mode": {
    "name": "ipython",
    "version": 3
   },
   "file_extension": ".py",
   "mimetype": "text/x-python",
   "name": "python",
   "nbconvert_exporter": "python",
   "pygments_lexer": "ipython3",
   "version": "3.11.7"
  }
 },
 "nbformat": 4,
 "nbformat_minor": 5
}
