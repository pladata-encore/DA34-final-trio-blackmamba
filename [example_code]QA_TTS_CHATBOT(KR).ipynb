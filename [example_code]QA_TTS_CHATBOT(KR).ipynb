{
 "cells": [
  {
   "cell_type": "markdown",
   "id": "d32347f2",
   "metadata": {},
   "source": [
    "## 0. 라이브러리 호출:\n",
    "\n",
    "1. **os**: 이 라이브러리는 운영 체제에 의존하는 기능을 사용할 수 있게 해 주는 파이썬 모듈입니다. 파이썬 스크립트가 실행되는 운영 체제와 상호 작용할 수 있도록 합니다.\n",
    "\n",
    "2. **logging**: 애플리케이션 및 라이브러리를 위한 유연한 이벤트 로깅 시스템을 구현하는 함수와 클래스를 정의하는 모듈입니다.\n",
    "\n",
    "3. **gtts (Google Text-to-Speech)**: 이 라이브러리는 텍스트를 음성으로 변환하는 데 사용됩니다. 구글 텍스트 음성 API를 사용합니다.\n",
    "\n",
    "4. **pdfplumber**: PDF에서 텍스트, 이미지 및 테이블을 추출하기 위한 라이브러리입니다.\n",
    "\n",
    "5. **langchain**: 이 라이브러리는 자연어 처리(NLP) 작업을 위한 사용자 정의 라이브러리인 것 같습니다. 벡터 저장소, 임베딩, 텍스트 분할, 검색 질의 응답 및 채팅 모델과 관련된 기능을 제공합니다. 이 라이브러리는 일반적인 파이썬 라이브러리나 NLTK나 spaCy와 같은 인기 있는 NLP 라이브러리로는 제공되지 않는 고급 NLP 작업을 수행하는 데 사용될 것 같습니다.\n",
    "\n",
    "6. **speech_recognition**: 이 라이브러리는 다양한 오디오 소스에서 음성을 인식하는 간단한 인터페이스를 제공합니다. 여러 음성 인식 엔진과 API를 지원합니다.\n",
    "\n",
    "7. **tkinter**: 이것은 Tk GUI 툴킷의 표준 파이썬 인터페이스입니다. 파이썬에서 그래픽 사용자 인터페이스(GUI)를 만드는 데 사용됩니다.\n",
    "\n",
    "8. **playsound**: 오디오 파일을 재생하기 위한 순수 파이썬, 크로스 플랫폼 라이브러리입니다.\n",
    "\n",
    "#### 0-1. 코드 스니펫:\n",
    "\n",
    "1. **모듈 가져오기**: 여러분은 os, logging, gtts, pdfplumber, langchain, speech_recognition, tkinter 및 playsound와 같은 여러 모듈과 패키지를 스크립트에 필요한 것으로 가져왔습니다.\n",
    "\n",
    "2. **모듈로부터의 클래스/함수 가져오기**: langchain에서 특정 클래스나 함수들을 가져왔습니다. 예를 들어, `gtts`에서 `gTTS`, `langchain.vectorstores`에서 `Chroma`와 `OpenAIEmbeddings`, 그리고 `langchain`에서 `RecursiveCharacterTextSplitter`, `RetrievalQA`, `ChatOpenAI`를 가져왔습니다.\n",
    "\n",
    "3. **Document 객체**: `langchain.docstore.document`에서 `Document` 객체에 대한 참조가 있지만, 제공된 코드 스니펫에서는 인스턴스화되거나 사용되지 않았습니다.\n",
    "\n",
    "4. **LLMChain**: `langchain.chains`에서 또 다른 클래스를 가져왔으나, 이 코드 스니펫에서는 사용되지 않았습니다.\n",
    "\n",
    "5. **GUI 구성 요소**: GUI를 구축하기 위해 `tkinter`와 `messagebox`를 가져왔습니다. 그러나 이 코드 스니펫에서는 GUI를 만드는 코드가 제공되지 않았습니다.\n",
    "\n",
    "6. **Playsound**: 오디오 파일을 재생하기 위해 `playsound`를 가져왔지만, 제공된 코드 스니펫에서는 사용되지 않았습니다.\n",
    "\n",
    "전반적으로, 텍스트 처리, 음성 인식, 텍스트 음성 변환 및 이러한 기능과 상호 작용하는 GUI를 구축하는 프로젝트"
   ]
  },
  {
   "cell_type": "code",
   "execution_count": 1,
   "id": "4eff1325",
   "metadata": {},
   "outputs": [],
   "source": [
    "import os\n",
    "import logging\n",
    "from gtts import gTTS\n",
    "import pdfplumber\n",
    "from langchain.vectorstores import Chroma\n",
    "from langchain.embeddings import OpenAIEmbeddings\n",
    "from langchain.text_splitter import RecursiveCharacterTextSplitter\n",
    "from langchain.chains import RetrievalQA\n",
    "from langchain.chat_models import ChatOpenAI\n",
    "from langchain.docstore.document import Document\n",
    "from langchain_core.prompts import ChatPromptTemplate\n",
    "from langchain.chains import LLMChain\n",
    "import speech_recognition as sr\n",
    "import tkinter as tk\n",
    "from tkinter import messagebox\n",
    "from playsound import playsound"
   ]
  },
  {
   "cell_type": "markdown",
   "id": "a343f41f",
   "metadata": {},
   "source": [
    "## 1. OpenAI API를 사용하기 위해 환경 변수에 API 키를 설정"
   ]
  },
  {
   "cell_type": "code",
   "execution_count": 2,
   "id": "93b98df3",
   "metadata": {},
   "outputs": [],
   "source": [
    "os.environ[\"OPENAI_API_KEY\"] = os.environ.get('OPENAI_API_KEY')"
   ]
  },
  {
   "cell_type": "markdown",
   "id": "906f88eb",
   "metadata": {},
   "source": [
    "## 2. 로그 저장하기 위한 설정"
   ]
  },
  {
   "cell_type": "code",
   "execution_count": 3,
   "id": "5cd8f5e0",
   "metadata": {},
   "outputs": [],
   "source": [
    "# 로그 파일의 이름과 로그 레벨, 포맷을 설정하여 기본 로그 설정을 수행합니다.\n",
    "# 로그는 'query_log.txt' 파일에 저장되며, 파일 모드는 'a'로 기존 로그를 추가합니다.\n",
    "logging.basicConfig(filename='query_log.txt',\n",
    "                    level=logging.INFO,  # 로그 레벨을 INFO로 설정하여 info 이상의 메시지만 기록합니다.\n",
    "                    format='%(asctime)s - %(message)s',  # 로그 포맷은 시간 정보와 메시지만 포함합니다.\n",
    "                    filemode='a')\n",
    "\n",
    "# 쿼리와 응답을 로깅하는 함수를 정의합니다.\n",
    "def log_query_and_response(query, response):\n",
    "    # logging 모듈의 info 함수를 사용하여 쿼리와 응답을 로그에 기록합니다.\n",
    "    logging.info(f\"Query: {query}\")  # 쿼리를 로그에 기록합니다.\n",
    "    logging.info(f\"Response: {response}\")  # 응답을 로그에 기록합니다."
   ]
  },
  {
   "cell_type": "markdown",
   "id": "f412e627",
   "metadata": {},
   "source": [
    "## 3. pdfplumber를 사용한 PDF에서 테이블 추출 함수."
   ]
  },
  {
   "cell_type": "code",
   "execution_count": 4,
   "id": "e27340a3",
   "metadata": {},
   "outputs": [],
   "source": [
    "def extract_tables_from_pdfplumber(pdf_path):\n",
    "    tables_content = []\n",
    "    with pdfplumber.open(pdf_path) as pdf:\n",
    "        for page in pdf.pages:\n",
    "            tables = page.extract_tables()\n",
    "            for table in tables:\n",
    "                tables_content.append(table)\n",
    "    return tables_content"
   ]
  },
  {
   "cell_type": "markdown",
   "id": "3b8d26e1",
   "metadata": {},
   "source": [
    "## 4. 지정 디렉토리 내의 PDF 파일을 처리 후 문서변환 함수."
   ]
  },
  {
   "cell_type": "code",
   "execution_count": 5,
   "id": "e9157d25",
   "metadata": {},
   "outputs": [],
   "source": [
    "def process_pdfs(directory):\n",
    "    documents = []\n",
    "    for filename in os.listdir(directory):\n",
    "        if filename.endswith(\".pdf\"):\n",
    "            file_path = os.path.join(directory, filename)\n",
    "            tables_content = extract_tables_from_pdfplumber(file_path)\n",
    "            for table_data in tables_content:\n",
    "                table_text = '\\n'.join(['\\t'.join([str(cell) if cell is not None else '' for cell in row]) for row in table_data])\n",
    "                documents.append(Document(page_content=table_text, metadata={\"source\": filename}))\n",
    "    return documents"
   ]
  },
  {
   "cell_type": "markdown",
   "id": "c0a13baf",
   "metadata": {},
   "source": [
    "## 5. 벡터 스토어 기능\n",
    "#### 5-1. 벡터 스토어를 저장할 디렉토리를 지정합니다.\n",
    "이 코드는 벡터 스토어가 저장될 디렉토리의 경로를 지정합니다. 여기서는 'car_info_sql'이라는 디렉토리를 사용합니다.\n",
    "\n",
    "#### 5-2. 벡터 스토어를 생성하거나 로드\n",
    "디렉토리가 존재하지 않으면, PDF 파일을 처리하여 문서를 생성합니다. `process_pdfs` 함수는 지정된 디렉토리('./pdfs/')에 있는 PDF 파일들을 처리합니다.\n",
    "\n",
    "생성된 문서를 청크(작은 단위)로 나누기 위해 `RecursiveCharacterTextSplitter`를 사용합니다. 여기서는 각 청크의 크기를 1000자로 하고, 청크 간에 200자의 중복을 둡니다.\n",
    "\n",
    "나눠진 텍스트 청크들을 임베딩하여 벡터 스토어를 생성합니다. `OpenAIEmbeddings`를 사용하여 텍스트를 벡터로 변환하고, `Chroma`를 사용하여 벡터 스토어를 생성하고 지정된 디렉토리에 저장합니다. `vectordb.persist()`는 생성된 벡터 스토어를 디스크에 저장하는 역할을 합니다.\n",
    "\n",
    "디렉토리가 이미 존재하면, 저장된 벡터 스토어를 로드합니다. `Chroma`를 사용하여 지정된 디렉토리에서 벡터 스토어를 불러옵니다."
   ]
  },
  {
   "cell_type": "code",
   "execution_count": 6,
   "id": "9a1287b1",
   "metadata": {},
   "outputs": [
    {
     "name": "stderr",
     "output_type": "stream",
     "text": [
      "/opt/anaconda3/envs/CHAT_BOT_SERVICE/lib/python3.9/site-packages/langchain_core/_api/deprecation.py:117: LangChainDeprecationWarning: The class `langchain_community.embeddings.openai.OpenAIEmbeddings` was deprecated in langchain-community 0.1.0 and will be removed in 0.2.0. An updated version of the class exists in the langchain-openai package and should be used instead. To use it run `pip install -U langchain-openai` and import as `from langchain_openai import OpenAIEmbeddings`.\n",
      "  warn_deprecated(\n"
     ]
    }
   ],
   "source": [
    "# 벡터 스토어를 저장할 디렉토리를 지정합니다.\n",
    "persist_directory = 'car_info_sql'\n",
    "\n",
    "# 벡터 스토어를 생성하거나 로드\n",
    "if not os.path.exists(persist_directory):\n",
    "    # PDF 파일을 처리하여 문서 생성\n",
    "    documents = process_pdfs('./pdfs/')\n",
    "\n",
    "    # 문서를 청크로 나눔\n",
    "    text_splitter = RecursiveCharacterTextSplitter(\n",
    "        chunk_size=1000, chunk_overlap=200)\n",
    "    texts = text_splitter.split_documents(documents)\n",
    "\n",
    "    # 임베딩과 벡터 스토어 생성\n",
    "    embedding = OpenAIEmbeddings()\n",
    "    vectordb = Chroma.from_documents(documents=texts,\n",
    "                                     embedding=embedding,\n",
    "                                     persist_directory=persist_directory)\n",
    "    vectordb.persist()  # 한 번만 호출\n",
    "else:\n",
    "    # 벡터 스토어 로드\n",
    "    vectordb = Chroma(persist_directory=persist_directory,\n",
    "                      embedding_function=OpenAIEmbeddings())"
   ]
  },
  {
   "cell_type": "markdown",
   "id": "9aef1d5e",
   "metadata": {},
   "source": [
    "## 6. 벡터 스토어를 사용, RetrievalQA 체인을 초기화."
   ]
  },
  {
   "cell_type": "code",
   "execution_count": 7,
   "id": "1bc592ee",
   "metadata": {},
   "outputs": [],
   "source": [
    "# RetrievalQA 체인 생성\n",
    "retriever = vectordb.as_retriever(search_kwargs={\"k\": 3})"
   ]
  },
  {
   "cell_type": "markdown",
   "id": "21f41d9a",
   "metadata": {},
   "source": [
    "## 7. 사용자-시스템 간 채팅 프롬프트 템플릿 설정."
   ]
  },
  {
   "cell_type": "code",
   "execution_count": 8,
   "id": "9d53866d",
   "metadata": {},
   "outputs": [],
   "source": [
    "# 프롬프트 템플릿 초기화\n",
    "chat_prompt = ChatPromptTemplate.from_messages([\n",
    "    (\"system\", \"안녕하세요! 차량 정보를 정확히 제공해드릴 수 있는 시스템입니다.\"\n",
    "               \"현재 데이터베이스에 '기아 K3'와 '폭스바겐 골프 7세대'의 정보가 있습니다.\"\n",
    "               \"질문하실 때 특정 차량을 정확하게 구분해주세요.\"\n",
    "               \"데이터는 영어와 한국어로 구성되어 있으며, 답변은 한국어로 드립니다.\"\n",
    "               \"길이 단위는 기본적으로 미터(m)로 사용합니다.\"\n",
    "               \"데이터에 마일(mile)이 있을 경우 미터로 환산해 드릴게요.\"\n",
    "               \"차량 정보를 혼동하지 않도록 주의할게요.\"\n",
    "               \"상세한 설명을 요청하셔도 답변은 250자 이내로 간결하게 드립니다.\"\n",
    "               \"사람과 대화하듯 편하게 구어체로 답변해 주되 존댓말로 답변해 주세요.\"\n",
    "               ),\n",
    "    (\"user\", \"{user_input}\"),\n",
    "])"
   ]
  },
  {
   "cell_type": "markdown",
   "id": "a151b3ed",
   "metadata": {},
   "source": [
    "## 8. 모델 체이닝\n",
    "#### 8-1. GPT-4o 모델로 채팅 모델 초기화\n",
    "(최대한 정확하게 토큰수는 최대로)이 코드는 `ChatOpenAI` 클래스를 사용하여 GPT-4o 모델을 초기화합니다. `temperature`는 0으로 설정하여 출력을 결정론적으로 만들고, `max_tokens`는 2048로 설정하여 가능한 최대 토큰 수를 사용합니다.\n",
    "\n",
    "#### 8-2. 언어 모델과 프롬프트 템플릿을 포함한 체인 초기화\n",
    "이 코드는 `LLMChain` 클래스를 사용하여 언어 모델과 프롬프트 템플릿을 포함한 체인을 초기화합니다. `llm`은 위에서 초기화한 GPT-4o 모델이고, `prompt`는 `chat_prompt`를 사용하며, 출력은 'result' 키에 저장됩니다.\n",
    "\n",
    "#### 8-3. RetrievalQA 체인 생성\n",
    "이 코드는 `RetrievalQA` 클래스를 사용하여 RetrievalQA 체인을 생성합니다. `llm`은 위에서 초기화한 GPT-4o 모델이고, `chain_type`은 \"stuff\"로 설정됩니다. `retriever`는 검색을 수행할 리트리버 객체이며, `return_source_documents`를 `True`로 설정하여 반환된 답변과 함께 관련 소스 문서도 반환되도록 합니다."
   ]
  },
  {
   "cell_type": "code",
   "execution_count": 9,
   "id": "8d312dcf",
   "metadata": {},
   "outputs": [
    {
     "name": "stderr",
     "output_type": "stream",
     "text": [
      "/opt/anaconda3/envs/CHAT_BOT_SERVICE/lib/python3.9/site-packages/langchain_core/_api/deprecation.py:117: LangChainDeprecationWarning: The class `langchain_community.chat_models.openai.ChatOpenAI` was deprecated in langchain-community 0.0.10 and will be removed in 0.2.0. An updated version of the class exists in the langchain-openai package and should be used instead. To use it run `pip install -U langchain-openai` and import as `from langchain_openai import ChatOpenAI`.\n",
      "  warn_deprecated(\n"
     ]
    }
   ],
   "source": [
    "# GPT-4o 모델로 채팅 모델 초기화 (최대한 정확하게 토큰수는 최대로)\n",
    "llm = ChatOpenAI(model_name=\"gpt-4o\",\n",
    "                 temperature=0,\n",
    "                 max_tokens=2048)\n",
    "\n",
    "# 언어 모델과 프롬프트 템플릿을 포함한 체인 초기화\n",
    "chain = LLMChain(llm=llm, prompt=chat_prompt, output_key='result')\n",
    "\n",
    "# RetrievalQA 체인 생성\n",
    "qa_chain = RetrievalQA.from_chain_type(\n",
    "    llm=llm,\n",
    "    chain_type=\"stuff\",\n",
    "    retriever=retriever,\n",
    "    return_source_documents=True  # 문서 정보 반환 옵션 추가\n",
    ")"
   ]
  },
  {
   "cell_type": "markdown",
   "id": "a0563061",
   "metadata": {},
   "source": [
    "## 9. 음성 관련 모듈\n",
    "#### 9-1. 텍스트 변환 함수\n",
    "이 함수는 입력된 텍스트에서 특정 단위를 한글 표현으로 변환합니다. `replace` 메서드를 사용하여 \"L\"을 \"리터\"로, \"kg.m\"을 \"킬로그램퍼미터\"로, \"cc\"를 \"씨씨\"로, \"kg\"을 \"킬로그램\"으로, \"km\"을 \"킬로미터\"로, \"rpm\"을 \"알피엠\"으로 변환합니다.\n",
    "\n",
    "#### 9-2. 음성 출력 함수\n",
    "이 함수는 텍스트를 음성으로 변환하고 재생합니다.\n",
    "\n",
    "1. `cleaned_text = text.replace('*', '').replace('**', '')`: 텍스트에서 '*'와 '**'를 제거합니다.\n",
    "2. `cleaned_text = convert_text(cleaned_text)`: `convert_text` 함수를 호출하여 텍스트 내의 특정 단위를 한글 표현으로 변환합니다.\n",
    "3. `tts = gTTS(text=cleaned_text, lang=lang)`: `gTTS`를 사용하여 변환된 텍스트를 음성으로 변환합니다. 언어는 기본적으로 한국어('ko')로 설정됩니다.\n",
    "4. `tts.save(\"output.mp3\")`: 생성된 음성 파일을 \"output.mp3\"로 저장합니다.\n",
    "5. `playsound(\"output.mp3\")`: 저장된 음성 파일을 재생합니다."
   ]
  },
  {
   "cell_type": "code",
   "execution_count": 10,
   "id": "5aa3b47b",
   "metadata": {},
   "outputs": [],
   "source": [
    "# 텍스트 변환 함수\n",
    "def convert_text(text):\n",
    "    text = text.replace(\"L\", \"리터\")\n",
    "    text = text.replace(\"kg.m\", \"킬로그램퍼미터\")\n",
    "    text = text.replace(\"cc\", \"씨씨\")\n",
    "    text = text.replace(\"kg\", \"킬로그램\")\n",
    "    text = text.replace(\"km\", \"킬로미터\")\n",
    "    text = text.replace(\"rpm\", \"알피엠\")\n",
    "    return text\n",
    "\n",
    "# 음성 출력 함수\n",
    "def text_to_speech(text, lang='ko'):\n",
    "    # 특수문자를 제거하고 텍스트를 음성으로 변환\n",
    "    cleaned_text = text.replace('*', '').replace('**', '')\n",
    "    cleaned_text = convert_text(cleaned_text)  # 텍스트 변환 적용\n",
    "    tts = gTTS(text=cleaned_text, lang=lang)\n",
    "    tts.save(\"output.mp3\")\n",
    "    playsound(\"output.mp3\")"
   ]
  },
  {
   "cell_type": "markdown",
   "id": "47a27fde",
   "metadata": {},
   "source": [
    "## 10. 음성 관련 모듈\n",
    "#### 10-1. 음성 인식 및 음원 초기화\n",
    "이 코드는 두 개의 음원 파일 경로를 지정합니다. `ping_sound_path`는 \"ping\" 소리 파일의 경로이고, `ding_sound_path`는 \"ding\" 소리 파일의 경로입니다.\n",
    "\n",
    "#### 10-2. 음원 재생 함수\n",
    "이 함수는 주어진 경로의 음원 파일을 재생합니다.\n",
    "\n",
    "1. `playsound(sound_path)`: `playsound` 라이브러리를 사용하여 `sound_path`에 지정된 경로의 음원 파일을 재생합니다.\n",
    "\n",
    "이 함수는 입력받은 음원 파일 경로를 사용하여 해당 음원을 재생하는 역할을 합니다."
   ]
  },
  {
   "cell_type": "code",
   "execution_count": 11,
   "id": "581292c4",
   "metadata": {},
   "outputs": [],
   "source": [
    "# 음성 인식 및 음원 초기화\n",
    "ping_sound_path = \"./sounds/ping-82822.mp3\"\n",
    "ding_sound_path = \"./sounds/ding-36029.mp3\"\n",
    "\n",
    "# 음원 재생 함수\n",
    "def play_sound(sound_path):\n",
    "    playsound(sound_path)"
   ]
  },
  {
   "cell_type": "markdown",
   "id": "eddc52ea",
   "metadata": {},
   "source": [
    "## 11. 응답문 관련 처리\n",
    "#### 11-1. 응답 처리 함수\n",
    "`process_llm_response` 함수는 LLM(대형 언어 모델)의 응답을 처리합니다.\n",
    "\n",
    "1. **응답이 문자열일 경우**:\n",
    "   - `llm_response.replace('*', '').replace('**', '')`: 응답에서 '*'와 '**'를 제거합니다.\n",
    "   - `cleaned_response = convert_text(cleaned_response)`: `convert_text` 함수를 호출하여 텍스트 내의 특정 단위를 한글 표현으로 변환합니다.\n",
    "   - `print(cleaned_response)`: 변환된 응답을 출력합니다.\n",
    "\n",
    "2. **응답이 문자열이 아닐 경우**:\n",
    "   - `cleaned_response = llm_response.get(\"result\", \"\").replace('*', '').replace('**', '')`: 응답 딕셔너리에서 \"result\" 키의 값을 가져와 '*'와 '**'를 제거합니다.\n",
    "   - `cleaned_response = convert_text(cleaned_response)`: `convert_text` 함수를 호출하여 텍스트 내의 특정 단위를 한글 표현으로 변환합니다.\n",
    "   - `print(cleaned_response)`: 변환된 응답을 출력합니다.\n",
    "   - `print('\\n\\nSources:')`: 소스 문서 목록의 제목을 출력합니다.\n",
    "   - `for source in llm_response.get(\"source_documents\", [])`: 소스 문서들을 순회하며 각각의 출처를 출력합니다.\n",
    "     - `print(source.metadata.get('source', 'Unknown'))`: 소스 문서의 메타데이터에서 'source'를 가져와 출력하고, 없으면 'Unknown'을 출력합니다.\n",
    "\n",
    "3. **결과 반환**:\n",
    "   - `return cleaned_response`: 변환된 응답을 반환합니다.\n",
    "\n",
    "#### 11-2. 쿼리 및 요약 함수\n",
    "`query_and_summarize` 함수는 사용자의 쿼리를 처리하고 요약된 응답을 제공합니다.\n",
    "\n",
    "1. **입력 생성**:\n",
    "   - `inputs = {\"user_input\": query}`: 사용자의 쿼리를 입력으로 설정합니다.\n",
    "\n",
    "2. **LLM 호출**:\n",
    "   - `llm_response = chain.invoke(inputs)`: 체인을 호출하여 쿼리에 대한 응답을 받습니다.\n",
    "\n",
    "3. **응답 처리**:\n",
    "   - `cleaned_response = process_llm_response(llm_response)`: `process_llm_response` 함수를 호출하여 응답을 처리합니다.\n",
    "\n",
    "4. **쿼리와 응답 로깅**:\n",
    "   - `log_query_and_response(query, cleaned_response)`: `log_query_and_response` 함수를 호출하여 쿼리와 응답을 로그에 기록합니다.\n",
    "\n",
    "5. **텍스트를 음성으로 변환**:\n",
    "   - `text_to_speech(cleaned_response)`: `text_to_speech` 함수를 호출하여 응답을 음성으로 변환합니다.\n",
    "\n",
    "6. **결과 반환**:\n",
    "   - `return cleaned_response`: 처리된 응답을 반환합니다."
   ]
  },
  {
   "cell_type": "code",
   "execution_count": 12,
   "id": "f444d58d",
   "metadata": {},
   "outputs": [],
   "source": [
    "# 응답 처리 함수\n",
    "def process_llm_response(llm_response):\n",
    "    if isinstance(llm_response, str):\n",
    "        cleaned_response = llm_response.replace('*', '').replace('**', '')\n",
    "        cleaned_response = convert_text(cleaned_response)  # 텍스트 변환 적용\n",
    "        print(cleaned_response)\n",
    "    else:\n",
    "        cleaned_response = llm_response.get(\"result\", \"\").replace('*', '').replace('**', '')\n",
    "        cleaned_response = convert_text(cleaned_response)  # 텍스트 변환 적용\n",
    "        print(cleaned_response)\n",
    "        print('\\n\\nSources:')\n",
    "        for source in llm_response.get(\"source_documents\", []):\n",
    "            print(source.metadata.get('source', 'Unknown'))\n",
    "    return cleaned_response\n",
    "\n",
    "def query_and_summarize(query):\n",
    "    inputs = {\"user_input\": query}\n",
    "    llm_response = chain.invoke(inputs)\n",
    "    cleaned_response = process_llm_response(llm_response)\n",
    "    log_query_and_response(query, cleaned_response)\n",
    "    text_to_speech(cleaned_response)\n",
    "    return cleaned_response"
   ]
  },
  {
   "cell_type": "markdown",
   "id": "02c375ff",
   "metadata": {},
   "source": [
    "## 12. 음성 인식기 설정 및 취소 기능 추가\n",
    "\n",
    "#### 12-1. 음성 인식기 초기화\n",
    "`sr.Recognizer` 객체를 생성하여 음성 인식기를 초기화합니다. `is_listening` 변수는 음성 인식이 실행 중인지 여부를 추적하기 위해 사용됩니다.\n",
    "\n",
    "#### 12-2. 음성 인식 및 처리 함수\n",
    "이 함수는 음성을 인식하고 처리합니다.\n",
    "\n",
    "1. **이미 음성 인식이 실행 중인 경우**:\n",
    "   - `if is_listening`: 음성 인식이 이미 실행 중이라면 사용자에게 알림 메시지를 표시하고 함수를 종료합니다.\n",
    "\n",
    "2. **음성 인식 시작**:\n",
    "   - `is_listening = True`: 음성 인식이 시작되었음을 표시합니다.\n",
    "   - `with sr.Microphone() as source`: 마이크로부터 음성을 입력받습니다.\n",
    "\n",
    "3. **주변 소음 조정**:\n",
    "   - `recognizer.adjust_for_ambient_noise(source, duration=1)`: 주변 소음 수준을 조정합니다.\n",
    "   - `print(\"소음 조정 완료\")`: 소음 조정 완료 메시지를 출력합니다.\n",
    "\n",
    "4. **음성 입력 안내**:\n",
    "   - `print(\"말씀하세요...\")`: 사용자에게 음성 입력을 요청합니다.\n",
    "   - `text_to_speech(\"말씀하세요\")`: 음성으로 \"말씀하세요\"를 출력합니다.\n",
    "   - `play_sound(ping_sound_path)`: \"ping\" 사운드를 재생합니다.\n",
    "\n",
    "5. **음성 인식**:\n",
    "   - `audio_data = recognizer.listen(source, timeout=5, phrase_time_limit=5)`: 음성을 입력받습니다. 시간 제한은 5초입니다.\n",
    "   - `print(\"음성 인식 중...\")`: 음성 인식 진행 메시지를 출력합니다.\n",
    "   - `text = recognizer.recognize_google(audio_data, language='ko-KR')`: Google 음성 인식 API를 사용하여 한국어로 음성을 텍스트로 변환합니다.\n",
    "   - `print(\"인식된 텍스트: \" + text)`: 인식된 텍스트를 출력합니다.\n",
    "   - `play_sound(ding_sound_path)`: \"ding\" 사운드를 재생합니다.\n",
    "   - `query_and_summarize(text)`: 인식된 텍스트를 쿼리로 처리하고 요약합니다.\n",
    "\n",
    "6. **오류 처리**:\n",
    "   - `except sr.UnknownValueError`: 음성을 인식할 수 없는 경우 오류 메시지를 표시합니다.\n",
    "   - `except sr.RequestError as e`: 음성 인식 서비스에 문제가 있는 경우 오류 메시지를 표시합니다.\n",
    "   - `except sr.WaitTimeoutError`: 음성 인식 시간이 초과된 경우 오류 메시지를 표시합니다.\n",
    "\n",
    "7. **음성 인식 종료**:\n",
    "   - `finally: is_listening = False`: 음성 인식이 종료되었음을 표시합니다."
   ]
  },
  {
   "cell_type": "code",
   "execution_count": 13,
   "id": "c75e5a6d",
   "metadata": {},
   "outputs": [],
   "source": [
    "# 음성 인식기 설정 및 취소 기능 추가\n",
    "recognizer = sr.Recognizer()\n",
    "is_listening = False\n",
    "\n",
    "def listen_and_process():\n",
    "    global is_listening\n",
    "    if is_listening:\n",
    "        messagebox.showinfo(\"Info\", \"이미 음성 인식이 실행 중입니다.\")\n",
    "        return\n",
    "\n",
    "    is_listening = True\n",
    "    try:\n",
    "        with sr.Microphone() as source:\n",
    "            print(\"주변 소음 수준 조정 중...\")\n",
    "            recognizer.adjust_for_ambient_noise(source, duration=1)\n",
    "            print(\"소음 조정 완료\")\n",
    "\n",
    "            print(\"말씀하세요...\")\n",
    "            text_to_speech(\"말씀하세요\")\n",
    "            play_sound(ping_sound_path)  # ping 사운드 재생\n",
    "            audio_data = recognizer.listen(source, timeout=5, phrase_time_limit=5)\n",
    "            print(\"음성 인식 중...\")\n",
    "            text = recognizer.recognize_google(audio_data, language='ko-KR')\n",
    "            print(\"인식된 텍스트: \" + text)\n",
    "            play_sound(ding_sound_path)  # ding 사운드 재생\n",
    "            query_and_summarize(text)  # query_and_summarize 함수 호출\n",
    "    except sr.UnknownValueError:\n",
    "        messagebox.showerror(\"Error\", \"음성을 인식할 수 없습니다\")\n",
    "    except sr.RequestError as e:\n",
    "        messagebox.showerror(\"Error\", f\"음성 인식 서비스에 문제가 있습니다: {e}\")\n",
    "    except sr.WaitTimeoutError:\n",
    "        messagebox.showerror(\"Error\", \"음성 인식 시간이 초과되었습니다\")\n",
    "    finally:\n",
    "        is_listening = False"
   ]
  },
  {
   "cell_type": "markdown",
   "id": "48aedf28",
   "metadata": {},
   "source": [
    "## 13. 음성 인식 중지 함수\n",
    "1. **is_listening 상태 확인**:\n",
    "   - `global is_listening`: 전역 변수 `is_listening`을 사용합니다.\n",
    "   - `if is_listening`: 음성 인식이 실행 중인지 확인합니다.\n",
    "\n",
    "2. **음성 인식 실행 중일 경우**:\n",
    "   - `is_listening = False`: 음성 인식을 중지합니다. 실제로 `recognizer.listen()`을 중지하는 기능은 제공되지 않으므로, 단순히 상태 변수만 업데이트합니다.\n",
    "   - `messagebox.showinfo(\"Info\", \"음성 인식이 취소되었습니다.\")`: 사용자에게 음성 인식이 취소되었음을 알리는 메시지를 표시합니다.\n",
    "\n",
    "3. **음성 인식이 실행 중이 아닐 경우**:\n",
    "   - `messagebox.showinfo(\"Info\", \"현재 실행 중인 음성 인식이 없습니다.\")`: 사용자에게 현재 실행 중인 음성 인식이 없음을 알리는 메시지를 표시합니다.\n",
    "\n",
    "이 함수는 음성 인식이 실행 중인 경우 이를 중지하고 사용자에게 알림을 주며, 실행 중이 아닌 경우에도 사용자에게 현재 실행 중인 음성 인식이 없음을 알립니다."
   ]
  },
  {
   "cell_type": "code",
   "execution_count": 14,
   "id": "95e1bb24",
   "metadata": {},
   "outputs": [],
   "source": [
    "def stop_listening():\n",
    "    global is_listening\n",
    "    if is_listening:\n",
    "        is_listening = False\n",
    "        messagebox.showinfo(\"Info\", \"음성 인식이 취소되었습니다.\")\n",
    "    else:\n",
    "        messagebox.showinfo(\"Info\", \"현재 실행 중인 음성 인식이 없습니다.\")"
   ]
  },
  {
   "cell_type": "markdown",
   "id": "eb69a50e",
   "metadata": {},
   "source": [
    "## 14. GUI 설정\n",
    "\n",
    "#### 14-1. Tkinter 루트 윈도우 생성\n",
    "`Tk()`를 사용하여 Tkinter 루트 윈도우를 생성하고, `title()` 메서드를 사용하여 창의 제목을 \"음성 인식 차량 정보 시스템\"으로 설정합니다.\n",
    "\n",
    "#### 14-2. 프레임 생성 및 배치\n",
    "`Frame` 위젯을 생성하여 루트 윈도우에 추가하고, `pack()` 메서드를 사용하여 프레임을 화면에 배치합니다. `pady=20` 옵션을 사용하여 프레임 위와 아래에 20픽셀의 패딩을 추가합니다.\n",
    "\n",
    "#### 14-3. 시작 버튼 생성 및 배치\n",
    "`Button` 위젯을 생성하여 프레임에 추가합니다. 버튼의 텍스트는 \"음성 인식 시작\"이며, 버튼이 클릭되면 `listen_and_process` 함수가 호출됩니다. `pack()` 메서드를 사용하여 버튼을 왼쪽(`side=tk.LEFT`)에 배치하고, 좌우에 10픽셀의 패딩을 추가합니다(`padx=10`).\n",
    "\n",
    "#### 14-4. 종료 버튼 생성 및 배치\n",
    "`Button` 위젯을 생성하여 프레임에 추가합니다. 버튼의 텍스트는 \"종료\"이며, 버튼이 클릭되면 애플리케이션이 종료됩니다(`root.quit`). `pack()` 메서드를 사용하여 버튼을 왼쪽(`side=tk.LEFT`)에 배치하고, 좌우에 10픽셀의 패딩을 추가합니다(`padx=10`).\n",
    "\n",
    "#### 14-5. 메인 이벤트 루프 시작\n",
    "`mainloop()` 메서드를 호출하여 Tkinter 메인 이벤트 루프를 시작합니다. 이 루프가 실행되는 동안 GUI는 사용자 입력을 기다리고 처리합니다.\n",
    "\n",
    "이 GUI 설정 코드는 간단한 사용자 인터페이스를 구성하여 음성 인식을 시작하고 애플리케이션을 종료할 수 있는 버튼을 제공합니다."
   ]
  },
  {
   "cell_type": "code",
   "execution_count": null,
   "id": "7a290184",
   "metadata": {},
   "outputs": [
    {
     "name": "stdout",
     "output_type": "stream",
     "text": [
      "주변 소음 수준 조정 중...\n",
      "소음 조정 완료\n",
      "말씀하세요...\n",
      "음성 인식 중...\n",
      "인식된 텍스트: k3 엔진오일 교환 주기 알려 줘\n",
      "기아 K3의 엔진오일 교환 주기는 일반적으로 10,000킬로미터 또는 1년 중 먼저 도래하는 시점입니다. 하지만 운전 습관이나 주행 환경에 따라 다를 수 있으니, 차량 매뉴얼을 참고하거나 정비소에서 권장하는 주기를 따르는 것이 좋습니다.\n",
      "\n",
      "\n",
      "Sources:\n"
     ]
    }
   ],
   "source": [
    "# GUI 설정\n",
    "root = tk.Tk()\n",
    "root.title(\"음성 인식 차량 정보 시스템\")\n",
    "\n",
    "frame = tk.Frame(root)\n",
    "frame.pack(pady=20)\n",
    "\n",
    "start_button = tk.Button(frame, text=\"음성 인식 시작\", command=listen_and_process)\n",
    "start_button.pack(side=tk.LEFT, padx=10)\n",
    "\n",
    "close_button = tk.Button(frame, text=\"종료\", command=root.quit)\n",
    "close_button.pack(side=tk.LEFT, padx=10)\n",
    "\n",
    "root.mainloop()"
   ]
  },
  {
   "cell_type": "code",
   "execution_count": null,
   "id": "285d3228",
   "metadata": {},
   "outputs": [],
   "source": []
  }
 ],
 "metadata": {
  "kernelspec": {
   "display_name": "CHAT_BOT_SERVICE",
   "language": "python",
   "name": "chat_bot_service"
  },
  "language_info": {
   "codemirror_mode": {
    "name": "ipython",
    "version": 3
   },
   "file_extension": ".py",
   "mimetype": "text/x-python",
   "name": "python",
   "nbconvert_exporter": "python",
   "pygments_lexer": "ipython3",
   "version": "3.9.13"
  }
 },
 "nbformat": 4,
 "nbformat_minor": 5
}
